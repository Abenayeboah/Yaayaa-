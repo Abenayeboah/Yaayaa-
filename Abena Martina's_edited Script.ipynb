{
 "cells": [
  {
   "cell_type": "code",
   "execution_count": 1,
   "metadata": {},
   "outputs": [],
   "source": [
    "# Importing neccessary libraries\n",
    "import numpy as np\n",
    "import pandas as pd\n",
    "import seaborn as sns\n",
    "import matplotlib.pyplot as plt\n",
    "from sklearn.metrics import mean_squared_error"
   ]
  },
  {
   "cell_type": "markdown",
   "metadata": {},
   "source": [
    "# DATA ASSIMILATION PROCESS"
   ]
  },
  {
   "cell_type": "code",
   "execution_count": 2,
   "metadata": {},
   "outputs": [],
   "source": [
    "# Creating an array of the 5-day sample temperature data for the observations and the model.\n",
    "observations = np.array([15.2,16.1,14.5,15.8,25.0]) \n",
    "model_data = np.array([14.8,15.5,14.0,16.0,25.3]) "
   ]
  },
  {
   "cell_type": "code",
   "execution_count": 3,
   "metadata": {},
   "outputs": [
    {
     "name": "stdout",
     "output_type": "stream",
     "text": [
      "Observations:  [15.2 16.1 14.5 15.8 25. ]\n",
      "Model data [14.8 15.5 14.  16.  25.3]\n",
      "Filtered state estimates: [14.8        15.66666667 14.9375     15.47142857 21.36181818]\n"
     ]
    },
    {
     "data": {
      "text/plain": [
       "'\\n\\nAssimilated Data: The filtered_state_estimates[k] represents the best estimate of the state at time 𝑘\\nk after assimilating both the model prediction and the observational data. It leverages the strength of both sources: the temporal consistency of the model and the accuracy of the observations.\\nReduced Uncertainty: Through the Kalman gain, the filter adjusts the influence of the prediction and the observation based on their uncertainties. If the model prediction is more certain (lower predicted covariance), it will have more influence. Conversely, if the observation is more certain (lower measurement noise), it will have more influence.\\nContinuous Adjustment: At each time step, the filter continuously refines its state estimate, ensuring that the assimilated data reflects both the latest observation and the underlying model dynamics.\\n\\n'"
      ]
     },
     "execution_count": 3,
     "metadata": {},
     "output_type": "execute_result"
    }
   ],
   "source": [
    "'''\n",
    "The next step is to set the initial estimates for the state and the uncertainty of the state. \n",
    "Here I set the inital state estimate to be the first value of the model data out of our choosing\n",
    "and I set the initial covariance estimate to be 1.\n",
    "'''\n",
    "# Initial estimates\n",
    "initial_state_estimate = model_data[0]\n",
    "initial_covariance_estimate = 1\n",
    "\n",
    "\n",
    "\n",
    "'''\n",
    "Both observation and model uncertainty is set to 1 and they correspond to the measurement_noise and the process_noise. \n",
    "What is happening here is that, probably something occurred during the collection of the observational data,\n",
    "and since the uncertainty is unknown, we equate it to 1. The model data has same reason.\n",
    "'''\n",
    "# Process and measurement noise\n",
    "process_noise = 1\n",
    "measurement_noise = 1\n",
    "\n",
    "\n",
    "'''\n",
    "The next step is to create an empty array to store the state estimates alias, the assimalated data and the covariance estimates\n",
    "alias the uncertainty for the assimilated data. I also checked for the number of observations.\n",
    "'''\n",
    "# Number of measurements\n",
    "num_measurements = len(observations)\n",
    "# Arrays to store the results\n",
    "filtered_state_estimates = np.zeros(num_measurements)\n",
    "filtered_covariance_estimates = np.zeros(num_measurements)\n",
    "\n",
    "'''\n",
    "In order to perform the data assimilation, I set the initial assimilsted data to the initial state estimate and the initial\n",
    "uncertainty in the initial covariance estimate. This will allow us propagate and find the next assimalated data or the next best \n",
    "estimate.\n",
    "\n",
    "'''\n",
    "# Initial values\n",
    "filtered_state_estimates[0] = initial_state_estimate\n",
    "filtered_covariance_estimates[0] = initial_covariance_estimate\n",
    "\n",
    "'''\n",
    "The next step is to loop through the number of observations and update the state and covariance estimates \n",
    "and also calculate the kalman gain for each step. The steps here are 1 to 5\n",
    "\n",
    "Predicted State Estimate \n",
    "The predicted state estimate is a forecast of the state variable before incorporating the new observation at time step 𝑘\n",
    "It is based on the previous state estimate and the system's model, and it provides a means to anticipate the state of the system using all the information available up to the previous time step.\n",
    "\n",
    "Significance: The predicted state estimate represents the expected state of the system before considering the new measurement. It is crucial for understanding how the system evolves over time based on the internal dynamics or model.\n",
    "\n",
    "Predicted Covariance Estimate \n",
    "The predicted covariance estimate quantifies the uncertainty or confidence in the predicted state estimate. It combines the previous uncertainty with the process noise to reflect the increasing uncertainty over time due to the inherent variability in the system.\n",
    "\n",
    "Significance: The predicted covariance estimate provides a measure of how much uncertainty there is in the predicted state. A larger predicted covariance implies greater uncertainty, while a smaller one implies more confidence in the prediction. This estimate is critical for determining the Kalman gain, which balances the reliance on the predicted state versus the new observation during the update step.\n",
    "\n",
    "\n",
    "'''\n",
    "\n",
    "\n",
    "for k in range(1, num_measurements):\n",
    "    # Prediction step\n",
    "    predicted_state_estimate = filtered_state_estimates[k-1]\n",
    "    predicted_covariance_estimate = filtered_covariance_estimates[k-1] + process_noise\n",
    "\n",
    "    # Update step\n",
    "    kalman_gain = predicted_covariance_estimate / (predicted_covariance_estimate + measurement_noise)\n",
    "    filtered_state_estimates[k] = predicted_state_estimate + kalman_gain * (observations[k] - predicted_state_estimate)\n",
    "    filtered_covariance_estimates[k] = (1 - kalman_gain) * predicted_covariance_estimate\n",
    "    \n",
    "\n",
    "# Printing the results\n",
    "print(\"Observations: \", observations)\n",
    "print(\"Model data\", model_data)\n",
    "print(\"Filtered state estimates:\", filtered_state_estimates)\n",
    "\n",
    "'''\n",
    "\n",
    "Assimilated Data: The filtered_state_estimates[k] represents the best estimate of the state at time 𝑘\n",
    "k after assimilating both the model prediction and the observational data. It leverages the strength of both sources: the temporal consistency of the model and the accuracy of the observations.\n",
    "Reduced Uncertainty: Through the Kalman gain, the filter adjusts the influence of the prediction and the observation based on their uncertainties. If the model prediction is more certain (lower predicted covariance), it will have more influence. Conversely, if the observation is more certain (lower measurement noise), it will have more influence.\n",
    "Continuous Adjustment: At each time step, the filter continuously refines its state estimate, ensuring that the assimilated data reflects both the latest observation and the underlying model dynamics.\n",
    "\n",
    "'''\n"
   ]
  },
  {
   "cell_type": "code",
   "execution_count": null,
   "metadata": {},
   "outputs": [],
   "source": []
  },
  {
   "cell_type": "code",
   "execution_count": null,
   "metadata": {},
   "outputs": [],
   "source": []
  },
  {
   "cell_type": "markdown",
   "metadata": {},
   "source": [
    "# ANALYSIS AND COMPARISONS"
   ]
  },
  {
   "cell_type": "code",
   "execution_count": null,
   "metadata": {},
   "outputs": [],
   "source": []
  },
  {
   "cell_type": "code",
   "execution_count": 4,
   "metadata": {},
   "outputs": [
    {
     "data": {
      "text/html": [
       "<div>\n",
       "<style scoped>\n",
       "    .dataframe tbody tr th:only-of-type {\n",
       "        vertical-align: middle;\n",
       "    }\n",
       "\n",
       "    .dataframe tbody tr th {\n",
       "        vertical-align: top;\n",
       "    }\n",
       "\n",
       "    .dataframe thead th {\n",
       "        text-align: right;\n",
       "    }\n",
       "</style>\n",
       "<table border=\"1\" class=\"dataframe\">\n",
       "  <thead>\n",
       "    <tr style=\"text-align: right;\">\n",
       "      <th></th>\n",
       "      <th>Model Data</th>\n",
       "      <th>Observations</th>\n",
       "      <th>Assimilated Data</th>\n",
       "    </tr>\n",
       "  </thead>\n",
       "  <tbody>\n",
       "    <tr>\n",
       "      <th>0</th>\n",
       "      <td>14.8</td>\n",
       "      <td>15.2</td>\n",
       "      <td>14.800000</td>\n",
       "    </tr>\n",
       "    <tr>\n",
       "      <th>1</th>\n",
       "      <td>15.5</td>\n",
       "      <td>16.1</td>\n",
       "      <td>15.666667</td>\n",
       "    </tr>\n",
       "    <tr>\n",
       "      <th>2</th>\n",
       "      <td>14.0</td>\n",
       "      <td>14.5</td>\n",
       "      <td>14.937500</td>\n",
       "    </tr>\n",
       "    <tr>\n",
       "      <th>3</th>\n",
       "      <td>16.0</td>\n",
       "      <td>15.8</td>\n",
       "      <td>15.471429</td>\n",
       "    </tr>\n",
       "    <tr>\n",
       "      <th>4</th>\n",
       "      <td>25.3</td>\n",
       "      <td>25.0</td>\n",
       "      <td>21.361818</td>\n",
       "    </tr>\n",
       "  </tbody>\n",
       "</table>\n",
       "</div>"
      ],
      "text/plain": [
       "   Model Data  Observations  Assimilated Data\n",
       "0        14.8          15.2         14.800000\n",
       "1        15.5          16.1         15.666667\n",
       "2        14.0          14.5         14.937500\n",
       "3        16.0          15.8         15.471429\n",
       "4        25.3          25.0         21.361818"
      ]
     },
     "execution_count": 4,
     "metadata": {},
     "output_type": "execute_result"
    }
   ],
   "source": [
    "'''\n",
    "Make a dataframe out of the observational data, model data and the Assimilated (Filtered States Estimates).\n",
    "'''\n",
    "\n",
    "data = {\n",
    "    \"Model Data\": model_data,\n",
    "    \"Observations\": observations,\n",
    "    \"Assimilated Data\": filtered_state_estimates\n",
    "}\n",
    "df = pd.DataFrame(data)\n",
    "df"
   ]
  },
  {
   "cell_type": "code",
   "execution_count": 5,
   "metadata": {},
   "outputs": [],
   "source": [
    "'''\n",
    "The next step is to calculate the root mean square error and the bias for the data. \n",
    "These are statistical metrics that helps us to see the performance of the assimilated data.\n",
    "'''\n",
    "\n",
    "RMSE_o = mean_squared_error(df['Observations'], df['Assimilated Data'],squared=False)\n",
    "MBE_o = np.mean(df['Assimilated Data'] - df['Observations'])\n",
    "\n",
    "RMSE_m = mean_squared_error(df['Model Data'], df['Assimilated Data'],squared=False)\n",
    "MBE_m = np.mean(df['Assimilated Data'] - df['Model Data'])"
   ]
  },
  {
   "cell_type": "code",
   "execution_count": null,
   "metadata": {},
   "outputs": [],
   "source": []
  },
  {
   "cell_type": "code",
   "execution_count": 6,
   "metadata": {},
   "outputs": [
    {
     "name": "stderr",
     "output_type": "stream",
     "text": [
      "C:\\Users\\DELL\\AppData\\Local\\Temp\\ipykernel_11052\\48502978.py:32: FutureWarning: In a future version of pandas all arguments of DataFrame.pivot will be keyword-only.\n",
      "  sns.heatmap(df1.pivot(\"Observed\", \"Assimilated\", values=\"Values\"),annot=True,annot_kws={'fontsize':15}, ax=ax1)\n",
      "C:\\Users\\DELL\\AppData\\Local\\Temp\\ipykernel_11052\\48502978.py:33: FutureWarning: In a future version of pandas all arguments of DataFrame.pivot will be keyword-only.\n",
      "  sns.heatmap(df2.pivot(\"Modelled\", \"Assimilated\", values=\"Values\"),annot=True,annot_kws={'fontsize':15}, ax=ax2)\n"
     ]
    },
    {
     "data": {
      "text/plain": [
       "Text(906.8986928104574, 0.5, 'Model')"
      ]
     },
     "execution_count": 6,
     "metadata": {},
     "output_type": "execute_result"
    },
    {
     "data": {
      "image/png": "[encoded data removed]",
      "text/plain": [
       "<Figure size 1800x800 with 4 Axes>"
      ]
     },
     "metadata": {},
     "output_type": "display_data"
    }
   ],
   "source": [
    "'''\n",
    "The final step is to make a visualization of the statistical metrics\n",
    "'''\n",
    "\n",
    "\n",
    "Observations_data = {\n",
    "    \"Observed\":[\"RMSE\", \"MBE\"],\n",
    "    \"Assimilated\": [\"RMSE\", \"MBE\"],\n",
    "    \"Values\": [RMSE_o, MBE_o]\n",
    "}\n",
    "\n",
    "Modelled_data = {\n",
    "    \"Modelled\":[\"RMSE\", \"MBE\"],\n",
    "    \"Assimilated\": [\"RMSE\", \"MBE\"],\n",
    "    \"Values\": [RMSE_m, MBE_m]\n",
    "}\n",
    "\n",
    "\n",
    "df1 = pd.DataFrame(Observations_data)\n",
    "df2 = pd.DataFrame(Modelled_data)\n",
    "\n",
    "'''\n",
    "we created a subplot and added two axes on it that is axis 1 and axis 2.\n",
    "And finally, made a heatmap of the the Assimilated data against the observational data and \n",
    "the model data\n",
    "\n",
    "'''\n",
    "\n",
    "fig, (ax1, ax2) = plt.subplots(ncols=2, figsize=(18,8))\n",
    "fig.subplots_adjust(wspace=0.04)\n",
    "\n",
    "sns.heatmap(df1.pivot(\"Observed\", \"Assimilated\", values=\"Values\"),annot=True,annot_kws={'fontsize':15}, ax=ax1)\n",
    "sns.heatmap(df2.pivot(\"Modelled\", \"Assimilated\", values=\"Values\"),annot=True,annot_kws={'fontsize':15}, ax=ax2)\n",
    "\n",
    "\n",
    "fig.suptitle(\"STATISTICAL METRICS TO QUANTIFY PERFORMANCE MADE BY THE DATA ASSIMILATION\") # This is the overall  title of the subplot\n",
    "\n",
    "# Configuring the title and labels for the first axis.\n",
    "ax1.set_title(\"Observation\", fontweight =\"bold\", fontsize=15)\n",
    "ax1.tick_params(axis='both',labelsize=15)\n",
    "ax1.set_xlabel('Assimilated', fontsize=15)\n",
    "ax1.set_ylabel('Observed \\n', fontsize=15)\n",
    "\n",
    "# Configuring the title and the labels for the second axis.\n",
    "ax2.set_title(\"Model\", fontweight =\"bold\", fontsize=15)\n",
    "ax2.tick_params(axis='both',labelsize=15)\n",
    "ax2.set_xlabel('Assimilated', fontsize=15)\n",
    "ax2.set_ylabel('Model', fontsize=15)"
   ]
  },
  {
   "cell_type": "code",
   "execution_count": null,
   "metadata": {},
   "outputs": [],
   "source": []
  }
 ],
 "metadata": {
  "kernelspec": {
   "display_name": "Python 3 (ipykernel)",
   "language": "python",
   "name": "python3"
  },
  "language_info": {
   "codemirror_mode": {
    "name": "ipython",
    "version": 3
   },
   "file_extension": ".py",
   "mimetype": "text/x-python",
   "name": "python",
   "nbconvert_exporter": "python",
   "pygments_lexer": "ipython3",
   "version": "3.11.3"
  }
 },
 "nbformat": 4,
 "nbformat_minor": 2
}
